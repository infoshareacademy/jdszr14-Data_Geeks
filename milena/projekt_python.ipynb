{
 "cells": [
  {
   "cell_type": "code",
   "execution_count": 1,
   "metadata": {},
   "outputs": [],
   "source": [
    "import pandas as pd\n",
    "import numpy as np"
   ]
  },
  {
   "cell_type": "code",
   "execution_count": 2,
   "metadata": {},
   "outputs": [],
   "source": [
    "df = pd.read_csv('../Projekt_Python/source_data/game_data_all.csv')"
   ]
  },
  {
   "cell_type": "code",
   "execution_count": 3,
   "metadata": {},
   "outputs": [
    {
     "name": "stdout",
     "output_type": "stream",
     "text": [
      "<class 'pandas.core.frame.DataFrame'>\n",
      "RangeIndex: 67571 entries, 0 to 67570\n",
      "Data columns (total 20 columns):\n",
      " #   Column                 Non-Null Count  Dtype  \n",
      "---  ------                 --------------  -----  \n",
      " 0   Unnamed: 0             67571 non-null  int64  \n",
      " 1   game                   67571 non-null  object \n",
      " 2   link                   67571 non-null  object \n",
      " 3   release                67571 non-null  object \n",
      " 4   peak_players           67571 non-null  int64  \n",
      " 5   positive_reviews       67571 non-null  int64  \n",
      " 6   negative_reviews       67571 non-null  int64  \n",
      " 7   total_reviews          67571 non-null  int64  \n",
      " 8   rating                 67571 non-null  float64\n",
      " 9   primary_genre          67561 non-null  object \n",
      " 10  store_genres           67514 non-null  object \n",
      " 11  publisher              67110 non-null  object \n",
      " 12  developer              67443 non-null  object \n",
      " 13  detected_technologies  60265 non-null  object \n",
      " 14  store_asset_mod_time   67275 non-null  object \n",
      " 15  review_percentage      47767 non-null  float64\n",
      " 16  players_right_now      67565 non-null  object \n",
      " 17  24_hour_peak           67565 non-null  object \n",
      " 18  all_time_peak          67571 non-null  int64  \n",
      " 19  all_time_peak_date     67565 non-null  object \n",
      "dtypes: float64(2), int64(6), object(12)\n",
      "memory usage: 10.3+ MB\n"
     ]
    }
   ],
   "source": [
    "df.info()"
   ]
  },
  {
   "cell_type": "code",
   "execution_count": 4,
   "metadata": {},
   "outputs": [],
   "source": [
    "df2 = pd.DataFrame(df)"
   ]
  },
  {
   "cell_type": "code",
   "execution_count": 6,
   "metadata": {},
   "outputs": [
    {
     "name": "stdout",
     "output_type": "stream",
     "text": [
      "Unnamed: 0               False\n",
      "game                     False\n",
      "link                     False\n",
      "release                  False\n",
      "peak_players             False\n",
      "positive_reviews         False\n",
      "negative_reviews         False\n",
      "total_reviews            False\n",
      "rating                   False\n",
      "primary_genre             True\n",
      "store_genres              True\n",
      "publisher                 True\n",
      "developer                 True\n",
      "detected_technologies     True\n",
      "store_asset_mod_time      True\n",
      "review_percentage         True\n",
      "players_right_now         True\n",
      "24_hour_peak              True\n",
      "all_time_peak            False\n",
      "all_time_peak_date        True\n",
      "dtype: bool\n"
     ]
    }
   ],
   "source": [
    "missing_data_in_columns = df2.isna().any() #czy sa nany i gdzie\n",
    "print(missing_data_in_columns)"
   ]
  },
  {
   "cell_type": "code",
   "execution_count": null,
   "metadata": {},
   "outputs": [],
   "source": []
  },
  {
   "cell_type": "code",
   "execution_count": 9,
   "metadata": {},
   "outputs": [
    {
     "name": "stdout",
     "output_type": "stream",
     "text": [
      "Index(['Unnamed: 0', 'game', 'link', 'release', 'peak_players',\n",
      "       'positive_reviews', 'negative_reviews', 'total_reviews', 'rating',\n",
      "       'primary_genre', 'store_genres', 'publisher', 'developer',\n",
      "       'detected_technologies', 'store_asset_mod_time', 'review_percentage',\n",
      "       'players_right_now', '24_hour_peak', 'all_time_peak',\n",
      "       'all_time_peak_date'],\n",
      "      dtype='object')\n"
     ]
    }
   ],
   "source": [
    "column_indexes = df.columns #inny sposob na sprawdzenie indeksow\n",
    "print(column_indexes)"
   ]
  },
  {
   "cell_type": "code",
   "execution_count": 15,
   "metadata": {},
   "outputs": [
    {
     "data": {
      "text/plain": [
       "0"
      ]
     },
     "execution_count": 15,
     "metadata": {},
     "output_type": "execute_result"
    }
   ],
   "source": [
    "column_position = df.columns.get_loc('Unnamed: 0') #przykładowo sprawdzamy pozycję danej kolumny\n",
    "column_position"
   ]
  },
  {
   "cell_type": "code",
   "execution_count": null,
   "metadata": {},
   "outputs": [],
   "source": [
    "#Do wykorzystania po ustaleniu, które kolumny usuwamy\n",
    "\n",
    "\n",
    "pd.read_csv('sample.csv', skiprows=[0,2]) #-> pominiecie wierszy\n",
    "pd.read_csv('sample.csv', usecols=[0,1]) #-> wskazanie, ktore kolumny chcemy uzyc\n",
    "df = pd.read_csv('sample.csv', usecols=lambda column: column not in [1]) #wariacja do pomijania kolumn\n",
    "pd.read_csv('sample.csv', nrows=3) #-> ile wierszy chcemy wczytać, jesli plik jest duży\n",
    "pd.DataFrame.value_counts() - konkretne wartosci dyskretne\n",
    "\n",
    "columns_to_drop = ['B', 'D'] #usuwanie kolumn v.1\n",
    "df = df.drop(columns=columns_to_drop)\n",
    "\n",
    "column_to_skip = 'column' #usuwanie kolumn v.2\n",
    "df = df.drop(columns=[column_to_skip])"
   ]
  }
 ],
 "metadata": {
  "kernelspec": {
   "display_name": "python_intro",
   "language": "python",
   "name": "python3"
  },
  "language_info": {
   "codemirror_mode": {
    "name": "ipython",
    "version": 3
   },
   "file_extension": ".py",
   "mimetype": "text/x-python",
   "name": "python",
   "nbconvert_exporter": "python",
   "pygments_lexer": "ipython3",
   "version": "3.11.5"
  }
 },
 "nbformat": 4,
 "nbformat_minor": 2
}
